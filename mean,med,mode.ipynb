{
 "cells": [
  {
   "cell_type": "code",
   "execution_count": 2,
   "metadata": {},
   "outputs": [
    {
     "name": "stdout",
     "output_type": "stream",
     "text": [
      "1301.0\n",
      "1301\n"
     ]
    }
   ],
   "source": [
    "#mean\n",
    "import statistics\n",
    "a = [1,3,4,361,6136]\n",
    "mean = sum(a)/len(a)\n",
    "print(mean)\n",
    "print(statistics.mean(a))"
   ]
  },
  {
   "cell_type": "code",
   "execution_count": 8,
   "metadata": {},
   "outputs": [
    {
     "name": "stdout",
     "output_type": "stream",
     "text": [
      "3.5\n",
      "3.5\n"
     ]
    }
   ],
   "source": [
    "#median\n",
    "b = [1,2,3,4,5,6]\n",
    "n = len(b)\n",
    "b.sort()\n",
    "if(n%2==0):\n",
    "    median1 = b[n//2]\n",
    "    median2 = b[n//2-1]\n",
    "    median = (median1+median2)/2\n",
    "    print(median)\n",
    "else:\n",
    "    median=b[n//2]\n",
    "    print(median)\n",
    "print(statistics.median(b))"
   ]
  },
  {
   "cell_type": "code",
   "execution_count": 15,
   "metadata": {},
   "outputs": [
    {
     "name": "stdout",
     "output_type": "stream",
     "text": [
      "345\n",
      "345\n"
     ]
    }
   ],
   "source": [
    "#mode\n",
    "from collections import Counter\n",
    "def modecal(sample):\n",
    "    c = Counter(sample)\n",
    "    for k,v in c.items():\n",
    "        if v == c.most_common(1)[0][1]:\n",
    "            return k\n",
    "c = [1,2,2,34,354,345,345,345,3,3,4,5]\n",
    "mode = modecal(c)\n",
    "print(mode)\n",
    "print(statistics.mode(c))"
   ]
  },
  {
   "cell_type": "code",
   "execution_count": 17,
   "metadata": {},
   "outputs": [
    {
     "name": "stdout",
     "output_type": "stream",
     "text": [
      "441.70000000000005\n",
      "441.7\n",
      "21.016660058153864\n",
      "21.016660058153864\n"
     ]
    }
   ],
   "source": [
    "#std-dev\n",
    "d = [12,22,43,24,65]\n",
    "avg=0\n",
    "meand = statistics.mean(d)\n",
    "for i in d:\n",
    "    sum = (i-meand)**2\n",
    "    avg = avg + sum\n",
    "variance=avg/(len(d)-1)\n",
    "stddev=variance**(1/2)\n",
    "print(variance)\n",
    "print(statistics.variance(d))\n",
    "print(stddev)\n",
    "print(statistics.stdev(d))"
   ]
  },
  {
   "cell_type": "code",
   "execution_count": 19,
   "metadata": {},
   "outputs": [
    {
     "name": "stdout",
     "output_type": "stream",
     "text": [
      "[0.0, 0.0015806111696522655, 0.631190727081138, 0.038461538461538464, 1.0, 0.13066385669125394, 0.012118018967334035]\n",
      "0.25914496462441666\n"
     ]
    }
   ],
   "source": [
    "#normalization\n",
    "x = [2,5,1200,75,1900,250,25]\n",
    "y=[]\n",
    "for i in x:\n",
    "    y.append((i-min(x))/(max(x)-min(x)))\n",
    "print(y)\n",
    "print(statistics.mean(y))"
   ]
  },
  {
   "cell_type": "code",
   "execution_count": 21,
   "metadata": {},
   "outputs": [
    {
     "name": "stdout",
     "output_type": "stream",
     "text": [
      "[-0.6522903812253827, -0.6483118456442811, 0.9364714941612161, -0.5554793487519089, 1.8647964630849385, -0.32339810652097833, -0.6217882751036033]\n",
      "3.172065784643304e-17\n",
      "0.9999999999999999\n"
     ]
    }
   ],
   "source": [
    "#Standardization - making mean=0 and stdev=1\n",
    "\n",
    "x = [2,5,1200,75,1900,250,25]\n",
    "x_mean = statistics.mean(x)\n",
    "x_stddev = statistics.stdev(x)\n",
    "std = []\n",
    "for i in x:\n",
    "    std.append((i-x_mean)/x_stddev)\n",
    "print(std)\n",
    "print(statistics.mean(std))\n",
    "print(statistics.stdev(std))"
   ]
  },
  {
   "cell_type": "code",
   "execution_count": null,
   "metadata": {},
   "outputs": [],
   "source": []
  }
 ],
 "metadata": {
  "kernelspec": {
   "display_name": "Python 3",
   "language": "python",
   "name": "python3"
  },
  "language_info": {
   "codemirror_mode": {
    "name": "ipython",
    "version": 3
   },
   "file_extension": ".py",
   "mimetype": "text/x-python",
   "name": "python",
   "nbconvert_exporter": "python",
   "pygments_lexer": "ipython3",
   "version": "3.7.3"
  }
 },
 "nbformat": 4,
 "nbformat_minor": 2
}
