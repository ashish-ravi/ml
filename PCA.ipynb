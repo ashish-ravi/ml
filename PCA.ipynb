{
 "cells": [
  {
   "cell_type": "code",
   "execution_count": 1,
   "metadata": {},
   "outputs": [],
   "source": [
    "import numpy as np \n",
    "import pandas as pd\n",
    "import matplotlib.pyplot as plt\n",
    "import seaborn as sns\n",
    "from sklearn.preprocessing import StandardScaler\n",
    "\n",
   
   ]
  },
  {
   "cell_type": "code",
   "execution_count": 2,
   "metadata": {},
   "outputs": [
    {
     "data": {
      "text/html": [
       "<div>\n",
       "<style scoped>\n",
       "    .dataframe tbody tr th:only-of-type {\n",
       "        vertical-align: middle;\n",
       "    }\n",
       "\n",
       "    .dataframe tbody tr th {\n",
       "        vertical-align: top;\n",
       "    }\n",
       "\n",
       "    .dataframe thead th {\n",
       "        text-align: right;\n",
       "    }\n",
       "</style>\n",
       "<table border=\"1\" class=\"dataframe\">\n",
       "  <thead>\n",
       "    <tr style=\"text-align: right;\">\n",
       "      <th></th>\n",
       "      <th>sepal length</th>\n",
       "      <th>sepal width</th>\n",
       "      <th>petal length</th>\n",
       "      <th>petal width</th>\n",
       "      <th>species</th>\n",
       "    </tr>\n",
       "  </thead>\n",
       "  <tbody>\n",
       "    <tr>\n",
       "      <th>0</th>\n",
       "      <td>5.1</td>\n",
       "      <td>3.5</td>\n",
       "      <td>1.4</td>\n",
       "      <td>0.2</td>\n",
       "      <td>1</td>\n",
       "    </tr>\n",
       "    <tr>\n",
       "      <th>1</th>\n",
       "      <td>4.9</td>\n",
       "      <td>3.0</td>\n",
       "      <td>1.4</td>\n",
       "      <td>0.2</td>\n",
       "      <td>1</td>\n",
       "    </tr>\n",
       "    <tr>\n",
       "      <th>2</th>\n",
       "      <td>4.7</td>\n",
       "      <td>3.2</td>\n",
       "      <td>1.3</td>\n",
       "      <td>0.2</td>\n",
       "      <td>1</td>\n",
       "    </tr>\n",
       "    <tr>\n",
       "      <th>3</th>\n",
       "      <td>4.6</td>\n",
       "      <td>3.1</td>\n",
       "      <td>1.5</td>\n",
       "      <td>0.2</td>\n",
       "      <td>1</td>\n",
       "    </tr>\n",
       "    <tr>\n",
       "      <th>4</th>\n",
       "      <td>5.0</td>\n",
       "      <td>3.6</td>\n",
       "      <td>1.4</td>\n",
       "      <td>0.2</td>\n",
       "      <td>1</td>\n",
       "    </tr>\n",
       "  </tbody>\n",
       "</table>\n",
       "</div>"
      ],
      "text/plain": [
       "   sepal length  sepal width  petal length  petal width  species\n",
       "0           5.1          3.5           1.4          0.2        1\n",
       "1           4.9          3.0           1.4          0.2        1\n",
       "2           4.7          3.2           1.3          0.2        1\n",
       "3           4.6          3.1           1.5          0.2        1\n",
       "4           5.0          3.6           1.4          0.2        1"
      ]
     },
     "execution_count": 2,
     "metadata": {},
     "output_type": "execute_result"
    }
   ],
   "source": [
    "df = pd.read_csv('Iris.csv')\n",
    "df.head()"
   ]
  },
  {
   "cell_type": "code",
   "execution_count": 13,
   "metadata": {},
   "outputs": [
    {
     "data": {
      "text/html": [
       "<div>\n",
       "<style scoped>\n",
       "    .dataframe tbody tr th:only-of-type {\n",
       "        vertical-align: middle;\n",
       "    }\n",
       "\n",
       "    .dataframe tbody tr th {\n",
       "        vertical-align: top;\n",
       "    }\n",
       "\n",
       "    .dataframe thead th {\n",
       "        text-align: right;\n",
       "    }\n",
       "</style>\n",
       "<table border=\"1\" class=\"dataframe\">\n",
       "  <thead>\n",
       "    <tr style=\"text-align: right;\">\n",
       "      <th></th>\n",
       "      <th>sepal length</th>\n",
       "      <th>sepal width</th>\n",
       "      <th>petal length</th>\n",
       "      <th>petal width</th>\n",
       "    </tr>\n",
       "  </thead>\n",
       "  <tbody>\n",
       "    <tr>\n",
       "      <th>0</th>\n",
       "      <td>5.1</td>\n",
       "      <td>3.5</td>\n",
       "      <td>1.4</td>\n",
       "      <td>0.2</td>\n",
       "    </tr>\n",
       "    <tr>\n",
       "      <th>1</th>\n",
       "      <td>4.9</td>\n",
       "      <td>3.0</td>\n",
       "      <td>1.4</td>\n",
       "      <td>0.2</td>\n",
       "    </tr>\n",
       "    <tr>\n",
       "      <th>2</th>\n",
       "      <td>4.7</td>\n",
       "      <td>3.2</td>\n",
       "      <td>1.3</td>\n",
       "      <td>0.2</td>\n",
       "    </tr>\n",
       "    <tr>\n",
       "      <th>3</th>\n",
       "      <td>4.6</td>\n",
       "      <td>3.1</td>\n",
       "      <td>1.5</td>\n",
       "      <td>0.2</td>\n",
       "    </tr>\n",
       "    <tr>\n",
       "      <th>4</th>\n",
       "      <td>5.0</td>\n",
       "      <td>3.6</td>\n",
       "      <td>1.4</td>\n",
       "      <td>0.2</td>\n",
       "    </tr>\n",
       "  </tbody>\n",
       "</table>\n",
       "</div>"
      ],
      "text/plain": [
       "   sepal length  sepal width  petal length  petal width\n",
       "0           5.1          3.5           1.4          0.2\n",
       "1           4.9          3.0           1.4          0.2\n",
       "2           4.7          3.2           1.3          0.2\n",
       "3           4.6          3.1           1.5          0.2\n",
       "4           5.0          3.6           1.4          0.2"
      ]
     },
     "execution_count": 13,
     "metadata": {},
     "output_type": "execute_result"
    }
   ],
   "source": [
    "species = df[\"species\"].tolist()\n",
    "X = df.drop(\"species\", axis=1)\n",
    "X.head()\n"
   ]
  },
  {
   "cell_type": "code",
   "execution_count": 5,
   "metadata": {},
   "outputs": [],
   "source": [
    "from sklearn.preprocessing import StandardScaler\n",
    "scaler = StandardScaler()\n",
    "X = scaler.fit_transform(X)"
   ]
  },
  {
   "cell_type": "code",
   "execution_count": 6,
   "metadata": {},
   "outputs": [
    {
     "data": {
      "text/plain": [
       "array([[ 1.        , -0.11756978,  0.87175378,  0.81794113],\n",
       "       [-0.11756978,  1.        , -0.4284401 , -0.36612593],\n",
       "       [ 0.87175378, -0.4284401 ,  1.        ,  0.96286543],\n",
       "       [ 0.81794113, -0.36612593,  0.96286543,  1.        ]])"
      ]
     },
     "execution_count": 6,
     "metadata": {},
     "output_type": "execute_result"
    }
   ],
   "source": [
    "X_corr = (1/150)* X.T.dot(X)\n",
    "X_corr"
   ]
  },
  {
   "cell_type": "code",
   "execution_count": 8,
   "metadata": {},
   "outputs": [
    {
     "name": "stdout",
     "output_type": "stream",
     "text": [
      "[2.91849782 0.91403047 0.14675688 0.02071484] \n",
      " [[ 0.52106591 -0.37741762 -0.71956635  0.26128628]\n",
      " [-0.26934744 -0.92329566  0.24438178 -0.12350962]\n",
      " [ 0.5804131  -0.02449161  0.14212637 -0.80144925]\n",
      " [ 0.56485654 -0.06694199  0.63427274  0.52359713]]\n"
     ]
    }
   ],
   "source": [
    "eig_values,eig_vect = np.linalg.eig(X_corr)\n",
    "print(eig_values,\"\\n\",eig_vect)"
   ]
  },
  {
   "cell_type": "code",
   "execution_count": 14,
   "metadata": {},
   "outputs": [
    {
     "name": "stdout",
     "output_type": "stream",
     "text": [
      "Variance of each feature:  [72.96244541 22.85076179  3.66892189  0.51787091]\n"
     ]
    }
   ],
   "source": [
    "total = sum(eig_values)\n",
    "variance_each_feature = (eig_values/total)*100\n",
    "print(\"Variance of each feature: \",variance_each_feature)"
   ]
  },
  {
   "cell_type": "code",
   "execution_count": 15,
   "metadata": {},
   "outputs": [
    {
     "data": {
      "image/png": "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\n",
      "text/plain": [
       "<Figure size 432x288 with 1 Axes>"
      ]
     },
     "metadata": {
      "needs_background": "light"
     },
     "output_type": "display_data"
    }
   ],
   "source": [
    "plt.bar(range(4),variance_each_feature,alpha=0.6)\n",
    "plt.ylabel(\"Percentage of explained variance\")\n",
    "plt.xlabel(\"Dimensions\")\n",
    "plt.show()"
   ]
  },
  {
   "cell_type": "code",
   "execution_count": 17,
   "metadata": {},
   "outputs": [],
   "source": [
    "pc1 = X.dot(eig_vect[:,0])\n",
    "pc2 = X.dot(eig_vect[:,1])"
   ]
  },
  {
   "cell_type": "code",
   "execution_count": 26,
   "metadata": {},
   "outputs": [
    {
     "data": {
      "text/html": [
       "<div>\n",
       "<style scoped>\n",
       "    .dataframe tbody tr th:only-of-type {\n",
       "        vertical-align: middle;\n",
       "    }\n",
       "\n",
       "    .dataframe tbody tr th {\n",
       "        vertical-align: top;\n",
       "    }\n",
       "\n",
       "    .dataframe thead th {\n",
       "        text-align: right;\n",
       "    }\n",
       "</style>\n",
       "<table border=\"1\" class=\"dataframe\">\n",
       "  <thead>\n",
       "    <tr style=\"text-align: right;\">\n",
       "      <th></th>\n",
       "      <th>pc1</th>\n",
       "      <th>pc2</th>\n",
       "      <th>target</th>\n",
       "    </tr>\n",
       "  </thead>\n",
       "  <tbody>\n",
       "    <tr>\n",
       "      <th>0</th>\n",
       "      <td>2.640270</td>\n",
       "      <td>-5.204041</td>\n",
       "      <td>1</td>\n",
       "    </tr>\n",
       "    <tr>\n",
       "      <th>1</th>\n",
       "      <td>2.670730</td>\n",
       "      <td>-4.666910</td>\n",
       "      <td>1</td>\n",
       "    </tr>\n",
       "    <tr>\n",
       "      <th>2</th>\n",
       "      <td>2.454606</td>\n",
       "      <td>-4.773636</td>\n",
       "      <td>1</td>\n",
       "    </tr>\n",
       "    <tr>\n",
       "      <th>3</th>\n",
       "      <td>2.545517</td>\n",
       "      <td>-4.648463</td>\n",
       "      <td>1</td>\n",
       "    </tr>\n",
       "    <tr>\n",
       "      <th>4</th>\n",
       "      <td>2.561228</td>\n",
       "      <td>-5.258629</td>\n",
       "      <td>1</td>\n",
       "    </tr>\n",
       "  </tbody>\n",
       "</table>\n",
       "</div>"
      ],
      "text/plain": [
       "        pc1       pc2  target\n",
       "0  2.640270 -5.204041       1\n",
       "1  2.670730 -4.666910       1\n",
       "2  2.454606 -4.773636       1\n",
       "3  2.545517 -4.648463       1\n",
       "4  2.561228 -5.258629       1"
      ]
     },
     "execution_count": 26,
     "metadata": {},
     "output_type": "execute_result"
    }
   ],
   "source": [
    "res = pd.DataFrame(pc1,columns=[\"pc1\"])\n",
    "res[\"pc2\"]=pc2\n",
    "res[\"target\"]=species\n",
    "res.head()"
   ]
  },
  {
   "cell_type": "code",
   "execution_count": 46,
   "metadata": {},
   "outputs": [
    {
     "data": {
      "image/png": "iVBORw0KGgoAAAANSUhEUgAAA3IAAAHSCAYAAACpVPkmAAAABHNCSVQICAgIfAhkiAAAAAlwSFlzAAALEgAACxIB0t1+/AAAADh0RVh0U29mdHdhcmUAbWF0cGxvdGxpYiB2ZXJzaW9uMy4xLjAsIGh0dHA6Ly9tYXRwbG90bGliLm9yZy+17YcXAAAgAElEQVR4nO3dfYyk210f+O/pO3MX2oHGvpcXG9NVOArREgYIDF6yKNGaAQc7uTj5D1RkLVtRr+wF+bKKUEJpY25QaxFil/EfCVHLXGIptUFeAlkuWIA9eUUrXuYSmzGBKITtbmzD2tfetGEb4fGds39U953pmap+q9fnqc9HatXU6equ01Mz1c/3ec75/UqtNQAAADTH2qInAAAAwMUIcgAAAA0jyAEAADSMIAcAANAwghwAAEDDCHIAAAANc2XREzjNk08+Wbvd7qKnAQAAsBDPP//8C7XWL3x4fKmDXLfbze3btxc9DQAAgIUopeyNGre0EgAAoGEEOQAAgIYR5AAAABpGkAMAAGgYQQ4AAKBhBDkAAICGEeQAAAAaRpADAABoGEEOAACgYQQ5AACAhhHkAAAAGkaQAwAAaBhBDgAAoGEEOQAAgIYR5AAAABpGkAMAAGgYQQ4AAKBhBDnONhgk3W6ytja8HQwWPSMAAFhpghynGwySra1kby+pdXi7tSXMwRJyzgUAVocgx+n6/eTw8OTY4eFwHFgazrkAwGoR5Djd/v7FxoGFcM4FAFaLIMfpNjcvNg4shHMuALBaBDlOt72drK+fHFtfH44DS8M5FwBYLYIcp+v1kp2dpNNJShne7uwMx4Gl4ZwLAKyWK4ueAA3Q6wlusOSO/4v2+8PllJubwxDnvy4AtJMgB9ASzrkAwOqwtBIAAKBhBDkAAICGEeQAAAAaRpADAABoGEEOAACgYQQ5AACAhhHkAAAAGmZqQa6U8ndKKbWU8uSYz7+5lPKfjj7ePK3nBQAAWDVTaQheSvmyJN+aZH/M51+R5J1JriepSZ4vpfxsrfX/ncbzAwAArJJpXZH70STfl2FIG+WvJnl/rfVTR+Ht/Um+bUrPDQAAsFImDnKllG9P8tFa64dOediXJvn9B+5/5GgMAACACzrX0spSygeSfMmIT/WTfH+S15/1LUaMjbx6V0rZSrKVJJubm+eZHgAAwEo5V5CrtX7LqPFSyrUkX57kQ6WUJHl1kt8opby21vqHDzz0I0n+uwfuvzrJvx7zXDtJdpLk+vXr45ZqAgAArKyJllbWWu/UWr+o1tqttXYzDGxf91CIS5JfTPL6UsrLSykvz/AK3i9O8twAAACramZ95Eop10sp706SWuunkvxgkl8/+vgHR2MAAABc0FTaDxw7uip3/OfbSf72A/efTfLsNJ8PAABgFc3sihwAAACzIcgBAAA0jCAHAADQMIIcAABAwwhyAAAADSPIAQAANIwgBwAA0DCCHAAAQMMIcgAAAA0jyAEAADSMIAcAANAwghwAAEDDCHIAAAANI8gBzNFgkHS7ydra8HYwWPSMAIAmurLoCQCsisEg2dpKDg+H9/f2hveTpNdb3LwAgOZxRQ5gTvr9+yHu2OHhcBwA4CIEOYA52d+/2DgAwDiCHMCcbG5ebBwAYBxBDmBOtreT9fWTY+vrw3EAgIsQ5ADmpNdLdnaSTicpZXi7s6PQCQBwcYIcwBSct61Ar5fs7ib37g1vhTgA4DK0HwCYkLYCAMC8uSIHMCFtBQCAeRPkACakrQAAMG+CHMCEtBUAAOZNkAOYkLYCAMC8CXIAE9JWAACYN1UrAaag1xPcAID5cUUOAACgYQQ5AACAhhHkAAAAGkaQAwAAaBhBDgAAoGEEOQAAgIYR5AAAABpGkAMAAGgYQQ4AAKBhBDkAAICGEeQAAAAaRpADAABoGEEOAACgYQQ5AACAhhHkAAAAGkaQa7rBIOl2k7W14e1gsOgZwUrwX6+5pvXaDe4M0r3Zzdoza+ne7GZwxz8CAObnyqInwAQGg2RrKzk8HN7f2xveT5Jeb3HzgpbzX6+5pvXaDe4MsvXcVg7vDr/R3sFetp4bfqPeNf8IAJi9Umtd9BzGun79er19+/aip7G8ut3hUcjDOp1kd3fes4GV4b9ec03rteve7Gbv4NFv1NnoZPfpC3wjADhDKeX5Wuv1h8ctrWyy/f2LjQNT4b9ec03rtds/GP0F48YBYNoEuSbb3LzYODAV/us117Reu82N0V8wbhwApk2Qa7Lt7WR9/eTY+vpwHJgZ//Waa1qv3faN7axfPfmN1q+uZ/uGfwQAzIcgd1HLVKqu10t2doabO0oZ3u7sqLYAM+a/XnNN67XrXetl56mddDY6KSnpbHSy89SOQicAzI1iJxfxcLmzZHgq1xEcAAAwA4qdTEO/fzLEJcP7/f5i5gMAAKwkQe4ilKoDGGmZVp0DwCoQ5C5CqTqARxyvOt/bS2q932T7rDDXtPDXtPkC0G6C3EUoVQfwiMusOr9s+FuUps0XgPYT5C5inqXqnPoFGuIyq86btuW4afMFoP1UrVxGqmMCDdLtDq9QPazTSXZ3R3/N2trwytbDSknu3Zvm7KajafMFoD1UrWwSp36BBrnMqvOmbTlu2nwBaL+pBLlSyt8ppdRSypNjPv9iKeWDRx8/O43nbDXVMYEGucyq86ZtOW7afAFovyuTfoNSypcl+dYkp6WMP6m1fu2kz7UyNjdHr1Ny6hdYUr3exVZ+Hz+23x+eo9rcHIaiZV093rT5AtB+E++RK6X8VJIfTPJ/Jrlea31hxGP+uNb6Zy76ve2Rs0cOAABW2Uz2yJVSvj3JR2utHzrjoZ9TSrldSvmVUsrfmOQ5V8I8q2MCQEMN7gzSvdnN2jNr6d7sZnBHhWdgdZx5Ra6U8oEkXzLiU/0k35/k9bXWg1LKbsZfkXtVrfVjpZTXJPmXSW7UWv/zmOfbSrKVJJubm1+/N2qJIQCw0gZ3Btl6biuHd++vXlm/up6dp3bSu+bEJ9Ae467IXXppZSnlWpJbSY7fQV+d5GNJXltr/cNTvu6fJPm5WutPnfUcK7u0EgA4VfdmN3sHj57s7Wx0svv07vwnBDAjU19aWWu9U2v9olprt9baTfKRJF/3cIgrpby8lPJfHf35ySTflOQ/XPZ5AQD2D0bXWBs3DtA2M+kjV0q5Xkp599Hd/zrJ7VLKh5L8qyQ/VGsV5ACAS9vcGF3Jedw4QNtMLcgdXZl74ejPt2utf/voz/9XrfVarfVrjm5/fFrPCQCspu0b21m/erK53/rV9Wzf0NwPWA0zuSIHADBLvWu97Dy1k85GJyUlnY2OQifASpm4j9wsKXYCwGUNBhp4A9B844qdXFnEZABglgaDZGsrOTyqq7y3N7yfCHMAtIOllQC0Tr9/P8QdOzwcjjN/g0HS7SZra8Pbgb7dABMT5ABYapcJAftjKtCPG2d2jq+O7u0ltd6/OirMAUxGkANgaV02BGyOqUA/bpzZcXUUYDYEOQCW1mVDwPZ2sn6yMn3W14fjzJerowCzIcgBsLQuGwJ6vWRnJ+l0klKGtzs7Cp0sgqujALMhyK0yu8+BJTdJCOj1kt3d5N694a0QtxiujgLMhiC3quw+BxpACGg+V0cBZkOQW1WX3XjiKh4wR0JAO7g6CjB9gtyquszGE1fxgCm5yDkhIQAAHiXIraLBYHj0NMppG0/UkAamwDkhAJicILdo816qeHwE9eKLj37urI0nakgDU+CcEABMTpBbpEWclh51BJUkjz129saTV7xi9Lga0sAFNOmckG3BACwrQW6RFnFaetyR0r17p4e4wSD59KcfHX/8ceXjgAtpSl8xS0ABWGaC3CIt4rT0ZY+g+v3k7t1Hxz/v81QeAC6kKS0FLAEFYJkJcou0iNPSlz2CGhcuP/Wp6cwLWBlNaSnQpCWgAKweQW6RFnFa+rJHUE1ZCwU0QhNaCnjbG7JPEGA5CXKLtKjT0pc5gmrKWihgJlbxYN7bnn2CAMtMkFu0JpyWTmYTOlfxyBAaaFUP5puyBHSW7BMEWF6l1rroOYx1/fr1evv27UVPg1k4PjJ88AhhfX31jpKgAbrdYXh7WKczPP9Ee62tDcP7w0oZnn9cRoM7g/Rv9bN/sJ/Njc1s39hO75rfK0BzlVKer7Vef3jcFTkmc9mrak7zQmMo+rG6mrZPcHBnkK3ntrJ3sJeamr2DvWw9t5XBnZZfPgZWkiDH5U2y3sqRITRG0w7mmZ6m7RPs3+rn8O7Jk4SHdw/Tv+UkIdA+glybzHvP2SRX1RwZQmM07WCe6WnaPsH9g9EnA8eNAzSZINcWi6hGMMlVNUeG0BhNO5hnuppSkytJNjdGnwwcNw7QZIJcW8xqz9lpV/kmuarmyBAapUkH86yu7RvbWb968iTh+tX1bN9wkhBoH0GuLWax5+ysq3xvfOMwhD3oIlfVHBkCMEW9a73sPLWTzkYnJSWdjU52ntpRtRJopSuLngBT8opXJJ/85KPjk+w5O+sq33vec7IudSnJm98skAGNMBgM387294dvldvb3r7aoHetJ7gBK0GQa4PBIPn0px8df/zxy+85GwxGN45Khkc9o0Jercn73ne55wOYo4dbWR4vOEiEOQCaQUPwNhjXrfeJJ5IXXrj49xvVrPtBnc4wzDWtSyzAEU3OAWgKDcHbbNw+uE996nLfb9TVtmPHe+C0DwAaTCtLAJpOkGuDaYeq045kjitLah8ANNi4t8dXvGK+7TgB4LIEuTaYdqgad4TT6dzfPKJ9ANBgo942r15N/uiP5tuOEwAuS5Brg2mHqvMGQ+0DgIYa9bb5+Z+ffOYzJx83jXacADALip0wmrrcwIpZW1PDCYDlM67YifYDjNbrCW7AStncHF3JUg0nAJaRpZUAEDWcAGgWQQ4AooYTAM0iyAHQOoPB5doIqOEEQFPYIwdAqwwGyVvekty9O7y/tze8nwhmALSHK3IAtMo73nE/xB27e3c4DgBtIcgB0Cqf/OTFxgGgiQS5VXTZzSMAAMBSsEdu1QwGydZWcng4vL+3N7yf2DwCtMITT4y++vbEE/OfCwDMiityq6bfvx/ijh0eDscBWuBd70oef/zk2OOPD8cBoC0EuVWzv3+xcYCG6fWSZ5892Q/u2WctOmgzOwaAVWRp5arZ3Bwupxw1DtASvZ7gtirsGABWlStyq2Z7O1lfPzm2vj4cB4CGsWMAWFWCXJucZ21Jr5fs7Jxcc7Sz47QlsJIsyWs+OwaAVSXItcXx2pK9vaTW+2tLxoW53d3k3r3hrRAHrKCLvG1O8zkFx+l6ZGfAG96e/M9XUv9+yZV/cCVv//m3T+V5BncG6d7sZu2ZtXRvdjO4M7jQ5wGmrdRaFz2Hsa5fv15v37696Gk0Q7c7eu9bpzMMawCcMO+3zYf3ciXDle0WRUzmxN/rG96evPbHknLyMW+7/rb8o7/2jy7/HHcG2XpuK4d3779461fXs/PUTnrXemd+HmASpZTna63XHxkX5FpibW14SvlhpQyvvAFwwrzfNp1vm53BYLgnbu+/v5I89uIjn3+sPJbP/v3PXvr7d292s3fw6IvX2ehk9+ndMz8PMIlxQc7SyrYYV3VSNUqAkeb9tmkv10nTXIp4vGNgVIhLkhfr6PHz2j8Y/SIdj5/1eYBZEOTaQjVKYEk0ZR/YvN82nW+773gp4t7BXmpq9g72svXc1sT7yh4rj11o/Lw2N0a/SMfjZ30eYBYEubZQjRJYAosoIHJZ837bdL7tvv6t/on9ZElyePcw/VuT9QzY+vqtC42f1/aN7axfPfnirV9dz/aN7XN9HmAW7JHjdMcbD/b3h6eNt7eFQ2As+8BO5y11aO2ZtdQ8evxRUnLvnZNtUHz7z789O8/v5MX6Yh4rj2Xr67cmKnRybHBnkP6tfvYP9rO5sZntG9snCpmc9XmAy1LshItTYg24IHWXOI9JioMIw8CqmUmxk1LKD5RSPlpK+eDRxxvHPO7bSin/sZTyu6WUvzvJczJH/f7JEJcM7/cnW/oCtJd9YJzHZZciNmnpLsCsTWOP3I/WWr/26ON9D3+ylPJYkn+Y5A1JvjLJd5ZSvnIKz8ssDQaj10clq1tiDTiTfWCcR+9aLztP7aSz0UlJSWejc66ea84vAtw3j2Inr03yu7XW36u1fibJTyZ50xyel8s6PuU5zmVOrTeljB0wEXWXOK/etV52n97NvXfey+7Tu+faT6aFA8B90why311K+c1SyrOllJeP+PyXJvn9B+5/5GiMZTXqlOexy5xatxYGVspxT69794a3TQpxFz3n5BzVfFm6C3DfmUGulPKBUsqHR3y8KcmPJfmzSb42yR8k+V9HfYsRY2MrrJRStkopt0sptz/xiU+c88dgqk47tXmZU+vWwgANcNFzTs5RzZ+luwD3Ta1qZSmlm+Tnaq1f9dD4X0ryA7XWv3p0/+8lSa31fznre6pauSDTrh+ujB3QABd969NqYTFUrQRWzayqVr7ygbt/M8mHRzzs15P8uVLKl5dSHk/yHUl+dpLnZcamfcrTWhigAS66/8p+rcVo8tJdgGmadI/cD5dS7pRSfjPJ65J8b5KUUl5VSnlfktRaP5vku5P8YpLfTvLeWutvTfi8zNK0qxUsYi2MjSvABV30nJNzVAAskobgzMc818JoZA5cwkXfOrzVADAPM1laCec2z7UwiqsAl3DRxQhaLfCgwZ1Buje7WXtmLd2b3QzuWAkCzJYrcrSP4iqwshTCYBEGdwbZem4rh3fvn0Rcv7p+ribnAGdxRY7paMLeMxtXYCUtsh1AE94amZ3+rf6JEJckh3cP079lJQgwO4Ic59eUpkkaDcFKWtSq6qa8NQqbs7N/MLpU6bhxgGkQ5Di/aR8lzeqowsYVWEmLagfQhG25TQmbTbW5MXrFx7hxgGkQ5C5i1U9nTvMoadZHFRoNwcpZ1Krqi7w1LurXSBPCZpNt39jO+tWTK0HWr65n+4aVIMcUg4HpE+TOy+nM6R4lOaoApuy0VdWzDFDnfWtc5K8Rzctnq3etl52ndtLZ6KSkpLPRUejkAcfFYPYO9lJTs3ewl63ntoQ5mJCqlefV7Q5/6z6s0xle8VkFpzVNSi5WKk5lSWAGRlWtTGbb7+28/eQW+WvEr7BHDe4M0r/Vz/7BfjY3NrN9Y1vwmpHuzW72Dh79B9jZ6GT36d35TwgaZlzVSkHuvASPoWkdJTmqAOZkHm8352l7sMhfI5qXn6RdwHytPbOWmkf/8ZeU3HvnCh1DwSUJcpMSPMa7zN+NowpgTpblPNyif43osXefK0Tz5e8bJqOP3KSUtB/vMpsvVJYE5mRZWksu+teIGlD3aRcwX4rBwGwIcucleIx32aMkRxXAHCw6QB3za2R5aBcwX4rBwGxYWsnk3v725B//45NrlyyTBJbIqi4rXNWf+yz2yAFNMm5p5ZVFTIYWGQyS97znZIgrJXnzmx0tAEuj11u9t6SHtyIftztIVu/v4mHHYU3VSqDJXJFjMovevQ/ASG1/e257+4C2/3zA+Sl2wniTdMrVZRZgKbX57bntDabb/vMB0yHIrbrjtTd7e8Plkcdrb84b5palHBwAJ7T57bl/q39if1uSHN49TP9Wf0Ezmq62/3zAdAhyq67fP9nLLRne75/zl8WylIMD4ITLvj1PskhjXs5qHzC4M0j3Zjdrz6yle7PbuCtZ2iMA5yHIrbpJ197Mq552E44sAJbIZd6eJ12kMS+ntQ9ow7JE7RGA8xDkVt1Za2/OE6Bm3Q+uKUcWAGMs6lzURd+eJ12kMS+nNZhuw7JEDbSB8xDkVt1pa29OC1DzPCppypEFwAiTnoua59ttUwqknNZgug3LEjXQBs5D+4G2mKTr67ivHVe7+oknkj/5k5PhapYNwNfWTvapO1bK8DQzwBKbpA3Aw73gktm+3bahZUH3Zjd7B4/+EJ2NTnaf3p3/hAAmpP1Am016unfc2ptxp2A/+cn5XiFrc+k1oPUmuco17wUJbahfZVkisCoEuTaY1W/6iwalWa29OevIQiEUYIlNci5q3ksd51W/apYsSwRWhaWVbTCrpYfj1vR87ucOr8o9bJZrb8Yt/xwMkre8Jbl79/5jr15NfuInmnXkAbTWJMsj27DUcVoGdwbp3+pn/2A/mxub2b6xLZwBK8HSyjab1dLDcadm3/Wu+V8hG7f88x3vOBnikuH9d7xj8ucEmIJJrnK1YanjNLShpQDAtAlybTDL3/SjAtRpRyXzbhUw6srgaeMAC3DZLi1tWOp4mvOe92tDSwGAabO0si0uWrVykiqXp5n3OqBSxn9uif9tA6y6iyw5XXtmLTWPvqeXlNx7p+rFQLtZWtl2FzndO8urZvPemf/EExcbB2ChBncG6d7s5rv+01oOt7rJtfu/e8bV6drcGL1VYNw4wCoQ5FbRLOtZz7tVwLvelTz++Mmxxx8fjgPwkmUo8PvgXreUmnzBXvLU1okwN+q8n5YC83MctNeeWUv3Ztc+RFhigtwqmuVVs3nvzO/1kmefPbmB5Nln27OBBOCCRgW2eW9fHmfUXrc8fpjcuH8icdR5Py0F5uOsojJCHiwXe+RW0az3sc1q/x0Ap1qmrjGjjNvrllqSZ+6duy0Ds9G92R1eLX1IZ6OT7Rvb2Xpu60QQX7+6LlDDHIzbIyfIraJJmhoBsLTGnacbZ9J2oxc1Lijkv3TS+Zld5/0W7LSiMpsbm2ND3u7Tu3OYHawuxU64r+31rAFW1EVXyM9q+/I44/a6/dO3bl+oLQOzcVpRmf2D0f+4xo0DsyfIrarLNjUCYGmNC2ZPPLEcjcUvu9dtVfdmzfvnPq2ojMqhsHyuLHoCAMB0bG+PXjl/XMh3GbYv9671LrSn6rgAx/HerOMCHMffq60W8XMff9/+rX72D/azubGZ7RvbL42P2iOncigsjj1yANAibas3dVoBjjbvzVrGn3twZzA25AGzo9gJANA4pxXguPfOOVZqmbNV/bmBRyl2AgA0zqruzVrVnxs4P0GO2RvVnRYAzuG0Ahxttqo/N3B+ghyzddyzbm8vqXV4u7UlzAFwLpetdNl0q/pzA+dnjxyzNa47baczbHsAQOssU8GVZZoLwGWM2yOn/QCzNa477UW71gLQCMcLMY5bIBwvxEjmH6CWaS4A0+aKHLPlihzASlmmt/1lmgvAZalayWJsbw+70T5ofX04DkDrLNNCjGWaC8C0CXLMVq+X7OwMT3+WMrzd2bGmBaClNsdUxx83PkvLNBeAaRPkmL6H2w0kwzUs9+4Nb4U4gNZapoUYyzQXgGkT5Jgu7QYAVtoyLcRYprkATJtiJ0yXneUAK0Npf4DZ036A+bCzHGAlKO0PsFiWVjJddpYDrIR+/36IO3Z4OBwHYPYEOabLznKAlWABBsBiCXJMl53lACvBAgyAxRLkmL5eT7sBgJazAANgsQQ5AOBcHmwT2u8nb36zBRgAiyLIMV0PNwPXPw6gFUa1CX3Pe4ZX4CzAAJg/QY7p0QwcoLVUqVyswZ1Buje7WXtmLd2b3Qzu+N0Kq06Q42JOu+LmtzxAa6lSOVunBbXBnUG2ntvK3sFeamr2Dvay9dyWMAcrbqIgV0r5gVLKR0spHzz6eOOYx+2WUu4cPeb2JM/JAg0GyVvfevKK21vfej/M+S0P0FqqVM7OWUGtf6ufw7snT5Qe3j1M/5YTpbDKpnFF7kdrrV979PG+Ux73uqPHXJ/Cc7II73hH8pnPnBz7zGeG44nf8gAtpkrl7JwV1PYPRp8QHTcOrAZLKzm/T37y9PHTfstPswiKgioAc6dN6OycFdQ2N0afEB03DqyGaQS57y6l/GYp5dlSysvHPKYm+aVSyvOllK0pPCfLaNxv+WR6RVAUVAFYGG1CZ+OsoLZ9YzvrV0+eKF2/up7tG8t/OVSRFpidUms9/QGlfCDJl4z4VD/JryR5IcOg9oNJXllrfeuI7/GqWuvHSilflOT9Sb6n1vpvxzzfVpKtJNnc3Pz6vb29C/w4zNSTT46+KvfEE8kLL4z/um53GLge1ukMjwQuYprfCwCWwPEeuQeXV65fXc/OUzvpXeu99Jj+rX72D/azubGZ7RvbL31uWZ3n5wLOVkp5ftT2tDOD3AWeoJvk52qtX3XG434gyR/XWn/krO95/fr1evu22ihLYzBI3vKW5O7d+2NXryY/8ROnn5ZdWxtePXtYKcPTuhcxze8FAAt2HND2DvbyWHksL9YX09noNCKonaV7s5u9g0dPvnY2Otl9enf+E4KGGhfkJq1a+coH7v7NJB8e8ZiXlVI+7/jPSV4/6nE0QK83DG0PLp08K8Ql0y2CoqAKAAs2ra3aD1arTJIX64svLZlseohLFGmBWZt0j9wPH7UV+M0kr0vyvclwKWUp5biC5Rcn+eVSyoeS/FqSn6+1/sKEz8uiXGaDxDRLnSmbBsACTXOrdtvbCijSArM1UZCrtf6tWuu1WutX11q/vdb6B0fjH6u1vvHoz79Xa/2ao4+/UGt1xL1qplnqTNk0ABao308OT2avHB4Oxy+q7VesmlykBZpganvkZsEeOQBgmUxzq/Yq7CFrYpEWWDbj9shdWcRkAACaaHNzdPHky2zV3r6xPbKqY5uuWPWu9QQ3mBENwQEAzmmaW7V713rZeWonnY1OSko6Gx2l+YFzE+QAgEdMqzJj20x7q3bvWi+7T+/m3jvvZffp3YWFOI27oXkEOQDghPNUZlzloHeZAs7L7ME2CDU1ewd72XpuS5iDJafYCQBwQrc7eh9YpzMMLsdB78Hqjevrigg31SoUXYEmm0lDcACgffbHVL8/Hp9mCf7zWOWrf/PQ9jYI0FaCHABwwrgKjMfjZwW9aZpmA25Gm6Rxt711sDiCHAA00CyvUp1VmfGsoDdN8776t4ou27jb3jpYLEEOABpm1lepzqrMOM0S/GeZ59W/VXXZNgj9W/0TPfCS5PDuYfq3pGyWXxuuJit2AgANc1YxknkYDIZXxfb3h1fitrdnU+hkGX5WRlt7Zi01jx5HlpTce+e9BcwIzuf4avKDJyLWr64vbR9HxU4AoCWW4SrVvErwz/PqHxczyd46WKS2XE0W5ACgYea5R0xvlSQAABHZSURBVO08Zrlfb9oNuJmey+6tg0VrS6VWQQ4AGmaZrlLNo6pk2xpwT9ui9vpcdm/dKmjD/qs2a8vVZHvkAKCB5rVH7Sz2sD1qcGeQ/q1+9g/2s7mxme0b2zMLN03b67MKvCbLr2mv0bg9coIcAHBpa2vDK3EPK2V4BW3VzPsAsXuzm72DR5N0Z6OT3ad3p/58nM1r0gzzPOEyKUEOAJg6V+ROmvdBvMqRy8drwrSpWgkATN0y7debxLQKtsy7iEIb9vq0bT9ZG14TmkGQAwAurQ1VJadZsGXeB/FNrxx5vBR172AvNTV7B3vZem6r0WGu6a8JzSHIMV2zrEENwFJqelXJfj85PNlSKoeHw/GLmvdBfNMrR7aln9eDmv6a0Bz2yDE9x6c0H/xtuL4+u1Ozy1KyDYBGm3bBliYVUVi0Nu0n87ozK4qdMHvz3PE+79AIQGsp2LI4banw2LRy9jSLYifM3v6Yjdzjxicx6ToYS0ABONKWgi1N1Jb9ZG1cIsryE+SYns0xG7nHjU9iktA4zV3tADReGwq2NFVb9pPNu1opJIIc0zTPU5qThMZp7moHoBWaXrBlXiZpFTDua3vXetl9ejf33nkv2ze207/Vn2krglm0O9BygEUQ5JieeZ7SnCQ0znMJKAA0zLigM0mrgPN87TxaEczqOdqyRJRmUeyE5rps1Uq72gFgpNOKdvRv9S9dmOQ8RU3mUfhkls+haiWzomolHFPxEgBGOi3o7B/sX7pVwHnaDMyjFUGb2h2wOlSthGN2tQOwxGaxh+u8TivaMck+sPN87Tz2mdnLRpsIcqwmu9oBWELz2Cd2mtOCziT7wM7ztfPYZ2YvG20iyAEALIlF9yM7LehM0irgPF87j1YEbWl3AIk9cqvlssVBAIC5WIY9XIp2MA3+HU3PuD1yVxYxGRbg4QIfx02wE2EOAJbE5sbmyGIj89zD1bvWc8DNRB6ufnq8RDiJf1tTZGnlqtAEG4CWGgyGnWXW1oa3g/nVBpk6e7hog0UvEV4Vgtyq0AQbgBY6XnCyt5fUen/BSVPD3Dz3cC2yOibtdlr1U6bHHrlVoQk2AC3k19vlnNb4u2lL3+zFWj7zaO6+SvSRW3Xb28Om1w9aXx+OA0BDWXByOW1Z+rbodg2MZonwfAhyq0ITbABaaHNMDZBx4wy1ZelbWwJp22jzMB+qVq6SXk9wA6BVtrdPFmVOLDg5j2WojjkNbQmkbaT66ey5IgcANJYFJ5fTtKVv4wqzjAueTQukcBmCHADQaL3esLDJvXvDWyHubJMufZtnxcvT9sE1LZDCNKlaCQDAuc274uVZFRBVraTtxlWtFOQAADi3eZeWX3tmLTWPHq+WlNx7572pPx8sG+0HAACY2DwLjAzuDLJWRh+u2gfHqhPkAAA4t3kVGDlewvliffGRz9kHB4IcAAAXMK8CI6N6xCXJY+UxPckgghwAABcwr2bP45Zq3qv3hDiIhuAAAFzQPJo9t6VpOcyKK3IAACwdPeLgdIIc0zcYJN1usrY2vB3MrkkoANBO81rCCU2ljxzTNRgkW1vJ4QObk9fXk52dpOeNFwAALkIfOeaj3z8Z4pLh/X5/MfMBAFprcGeQ7s1u1p5ZS/dmN4M7VgHNir/r5aPYCdO1P6YZ6LhxAIBLOO4zd9yiYO9gL1vPbSWJ5ZdT5u96Obkix3RtjqkkNW4cAOASRvWZO7x7mP4tq4Cmzd/1chLkmK7t7eGeuAetrw/HAQCmZFyfuXHjXJ6/6+UkyDFdvd6wsEmnk5QyvFXoBACYsnH95PSZmz5/18tJkGP6er1kdze5d294K8QBAFOmz9zFXbZgib/r5STIAQDQOPrMXcxxwZK9g73U1JcKlpwnzPm7Xk4T95ErpXxPku9O8tkkP19r/b4Rj/m2JO9K8liSd9daf+g831sfOQAAmFz3Zjd7B3uPjHc2Otl9enf+E+LcZtJHrpTyuiRvSvLVtda/kORHRjzmsST/MMkbknxlku8spXzlJM/LAgwGSbebrK0Nbwd6hwAANIWCJe0z6dLKtyX5oVrrnyZJrfXjIx7z2iS/W2v9vVrrZ5L8ZIbhj6YYDJKtrWRvL6l1eLu1JcwBADSEgiXtM2mQ+4okf7mU8qullH9TSvmGEY/50iS//8D9jxyN0RT9fnJ4sndIDg+H4wAALD0FS9rnylkPKKV8IMmXjPhU/+jrX57kG5N8Q5L3llJeU09uvCsjvnbsxrxSylaSrSTZ1ER6OeyPueQ+bhwAgKVyXJikf6uf/YP9bG5sZvvGtoIlDXZmkKu1fsu4z5VS3pbkp4+C26+VUu4leTLJJx542EeSfNkD91+d5GOnPN9Okp1kWOzkrPkxB5ubw+WUo8YBAGiE3rWe4NYiky6t/BdJvjlJSilfkeTxJC889JhfT/LnSilfXkp5PMl3JPnZCZ+XedreTtZPXorP+vpwHAAAmLtJg9yzSV5TSvlwhkVM3lxrraWUV5VS3pcktdbPZtie4BeT/HaS99Zaf2vC52Weer1kZyfpdJJShrc7Oxp9AwDAgkzcR26W9JEDAABW2Uz6yAEAADB/ghwAAEDDCHIAAAANI8gBAAA0jCAHAADQMIIcAABAwwhyAAAADSPIAQAANIwgBwAA0DCCHAAAQMMIcgAAAA0jyAEAADSMIAcAANAwghwAAEDDCHIAAAANI8gBAAA0jCAHAADQMIIcAABAwwhyAAAADSPIAQAANIwgBwAA0DCCHAAAQMMIcgAAAA0jyAEAADSMIAcAANAwghwAAEDDCHIAAAANI8gBAAA0jCAHAADQMIIcy2UwSLrdZG1teDsYLHpGAACwdK4segLwksEg2dpKDg+H9/f2hveTpNdb3LwAAGDJuCLH8uj374e4Y4eHw3EAAOAlghzLY3//YuMAALCiBDmWx+bmxcYBAGBFCXIsj+3tZH395Nj6+nAcAAB4iSDH8uj1kp2dpNNJShne7uwodAIAAA9RtZLl0usJbgAAcAZX5AAAABpGkAMAAGgYQQ4AAKBhBDkAAJiBwZ1Buje7WXtmLd2b3QzuDBY9JVpEsRMAAJiywZ1Btp7byuHdwyTJ3sFetp7bSpL0rinsxuRckQMAgCnr3+q/FOKOHd49TP9Wf0Ezom0EOQAAmLL9g/0LjcNFCXIAADBlmxubFxqHixLkAABgyrZvbGf96vqJsfWr69m+sb2gGdE2ghwAAExZ71ovO0/tpLPRSUlJZ6OTnad2FDphakqtddFzGOv69ev19u3bi54GAADAQpRSnq+1Xn943BU5AACAhhHkAAAAGkaQAwAAaBhBDgAAoGEEOQAAgIYR5AAAABpGkAMAAGgYQQ4AAKBhBDkAAICGEeQAAAAaRpADAABomImDXCnle0op/7GU8lullB8e85jdUsqdUsoHSym3J31OAACAVXZlki8upbwuyZuSfHWt9U9LKV90ysNfV2t9YZLnAwAAYPIrcm9L8kO11j9NklrrxyefEgAAAKeZNMh9RZK/XEr51VLKvymlfMOYx9Ukv1RKeb6UsnXaNyylbJVSbpdSbn/iE5+YcHoAAADtc+bSylLKB5J8yYhP9Y++/uVJvjHJNyR5bynlNbXW+tBjv6nW+rGjpZfvL6X8Tq313456vlrrTpKdJLl+/frD3wcAAGDlnRnkaq3fMu5zpZS3Jfnpo+D2a6WUe0meTHLiUlqt9WNHtx8vpfxMktcmGRnkAAAAON2kSyv/RZJvTpJSylckeTzJiYImpZSXlVI+7/jPSV6f5MMTPi8AAMDKmjTIPZvkNaWUDyf5ySRvrrXWUsqrSinvO3rMFyf55VLKh5L8WpKfr7X+woTPCwAAsLImaj9Qa/1Mku8aMf6xJG88+vPvJfmaSZ4HAACA+yZuCA4AAMB8CXIAAAANI8gBAAA0jCAHAADQMIIcAABAwwhyAAAADSPIAQAANIwgBwAA0DCCHAAAQMMIcgAAAA0jyAEAADSMIAcAANAwghwAAEDDCHIAAAANI8gBAAA0jCAHAADQMIIcAABAwwhyAAAADSPIAQAANIwgBwAA0DCCHAAAQMMIcgAAAA0jyAEAAEmSwZ1Buje7WXtmLd2b3QzuDBY9Jca4sugJAAAAize4M8jWc1s5vHuYJNk72MvWc1tJkt613iKnxgiuyAEAAOnf6r8U4o4d3j1M/1Z/QTPiNIIcAACQ/YP9C42zWIIcAACQzY3NC42zWIIcAACQ7RvbWb+6fmJs/ep6tm9sL2hGnEaQAwAA0rvWy85TO+lsdFJS0tnoZOepHYVOllSptS56DmNdv3693r59e9HTAACApTO4M0j/Vj/7B/vZ3NjM9o1toauFSinP11qvPzyu/QAAADSMVgFYWgkAAA2jVQCCHAAANIxWAQhyAADQMFoFIMgBAEDDaBWAIAcAAA2jVQDaDwAAACypce0HXJEDAABoGEEOAACgYQQ5AACAhhHkAAAAGkaQAwAAaBhBDgAAoGEEOQAAgIYR5AAAABpGkAMAAGgYQQ4AAKBhBDkAAICGEeQAAAAaRpADAABoGEEOAACgYQQ5AACAhhHkAAAAGkaQAwAAaBhBDgAAoGFKrXXRcxirlPKJJHszfIonk7www+/P/HlN28Xr2T5e0/bxmraL17N9vKbN16m1fuHDg0sd5GatlHK71np90fNgerym7eL1bB+vaft4TdvF69k+XtP2srQSAACgYQQ5AACAhln1ILez6AkwdV7TdvF6to/XtH28pu3i9Wwfr2lLrfQeOQAAgCZa9StyAAAAjbOSQa6U8mWllH9VSvntUspvlVLeseg5cXmllM8ppfxaKeVDR6/nM4ueE9NRSnmslPLvSyk/t+i5MLlSym4p5U4p5YOllNuLng+TKaV8QSnlp0opv3P0+/QvLXpOXF4p5c8f/d88/vh0KeXpRc+LyyulfO/RcdGHSyn/rJTyOYueE9O1kksrSymvTPLKWutvlFI+L8nzSf5GrfU/LHhqXEIppSR5Wa31j0spV5P8cpJ31Fp/ZcFTY0KllP8pyfUkn19r/euLng+TKaXsJrlea9XPqAVKKe9J8u9qre8upTyeZL3W+l8WPS8mV0p5LMlHk/w3tdZZ9vNlRkopX5rh8dBX1lr/pJTy3iTvq7X+k8XOjGlayStytdY/qLX+xtGf/yjJbyf50sXOisuqQ398dPfq0cfqnaFomVLKq5P8tSTvXvRcgJNKKZ+f5K8k+fEkqbV+RohrlRtJ/rMQ13hXknxuKeVKkvUkH1vwfJiylQxyDyqldJP8xSS/utiZMImjJXgfTPLxJO+vtXo9m+9mku9Lcm/RE2FqapJfKqU8X0rZWvRkmMhrknwiyU8cLX9+dynlZYueFFPzHUn+2aInweXVWj+a5EeS7Cf5gyQHtdZfWuysmLaVDnKllD+T5J8nebrW+ulFz4fLq7W+WGv92iSvTvLaUspXLXpOXF4p5a8n+Xit9flFz4Wp+qZa69cleUOS/7GU8lcWPSEu7UqSr0vyY7XWv5jk/0vydxc7JabhaJnstyf5PxY9Fy6vlPLyJG9K8uVJXpXkZaWU71rsrJi2lQ1yR3up/nmSQa31pxc9H6bjaGnPv07ybQueCpP5piTffrSn6ieTfHMp5Z8udkpMqtb6saPbjyf5mSSvXeyMmMBHknzkgdUPP5VhsKP53pDkN2qt/8+iJ8JEviXJ/11r/USt9W6Sn07y3y54TkzZSga5o+IYP57kt2ut/9ui58NkSilfWEr5gqM/f26Gb16/s9hZMYla69+rtb661trNcInPv6y1OpPYYKWUlx0Vl8rRErzXJ/nwYmfFZdVa/zDJ75dS/vzR0I0kCoa1w3fGsso22E/yjaWU9aPj3hsZ1oSgRa4segIL8k1J/laSO0f7qpLk+2ut71vgnLi8VyZ5z1GVrbUk7621KlcPy+WLk/zM8HgiV5L877XWX1jslJjQ9yQZHC3F+70kb1nwfJhQKWU9ybcm+R8WPRcmU2v91VLKTyX5jSSfTfLvk+wsdlZM20q2HwAAAGiylVxaCQAA0GSCHAAAQMMIcgAAAA0jyAEAADSMIAcAANAwghwAAEDDCHIAAAANI8gBAAA0zP8Pp5kG1Tc0Ds4AAAAASUVORK5CYII=\n",
      "text/plain": [
       "<Figure size 1080x576 with 1 Axes>"
      ]
     },
     "metadata": {
      "needs_background": "light"
     },
     "output_type": "display_data"
    }
   ],
   "source": [
    "fig, ax = plt.subplots(figsize=(15, 8))\n",
    "    \n",
    "species_unique = list(set(species))\n",
    "species_colors = [\"r\",\"b\",\"g\"]\n",
    "    \n",
    "for i, spec in enumerate(species):\n",
    "    plt.scatter(pc1[i], pc2[i], label = spec, c=species_colors[species_unique.index(spec)])\n"
   ]
  },
  {
   "cell_type": "code",
   "execution_count": null,
   "metadata": {},
   "outputs": [],
   "source": []
  }
 ],
 "metadata": {
  "kernelspec": {
   "display_name": "Python 3",
   "language": "python",
   "name": "python3"
  },
  "language_info": {
   "codemirror_mode": {
    "name": "ipython",
    "version": 3
   },
   "file_extension": ".py",
   "mimetype": "text/x-python",
   "name": "python",
   "nbconvert_exporter": "python",
   "pygments_lexer": "ipython3",
   "version": "3.7.3"
  }
 },
 "nbformat": 4,
 "nbformat_minor": 2
}
